{
 "cells": [
  {
   "cell_type": "code",
   "execution_count": 2,
   "id": "aa994ec6-2573-4314-89b2-6840495ab862",
   "metadata": {},
   "outputs": [
    {
     "data": {
      "text/plain": [
       "f (generic function with 1 method)"
      ]
     },
     "execution_count": 2,
     "metadata": {},
     "output_type": "execute_result"
    }
   ],
   "source": [
    "using CSV\n",
    "using Combinatorics\n",
    "\n",
    "function f(filename)\n",
    "\n",
    "    data = CSV.read(filename, delim=\",\")\n",
    "\n",
    "    for p in combinations(data, 2)\n",
    "        if sum(p) == 2020\n",
    "            return prod(p)\n",
    "        end\n",
    "    end\n",
    "\n",
    "end"
   ]
  },
  {
   "cell_type": "code",
   "execution_count": 6,
   "id": "270488a4-9b11-4e4c-aa0f-4ace82588b25",
   "metadata": {},
   "outputs": [
    {
     "ename": "LoadError",
     "evalue": "ArgumentError: provide a valid sink argument, like `using DataFrames; CSV.read(source, DataFrame)`",
     "output_type": "error",
     "traceback": [
      "ArgumentError: provide a valid sink argument, like `using DataFrames; CSV.read(source, DataFrame)`",
      "",
      "Stacktrace:",
      " [1] read(source::String, sink::Nothing; copycols::Bool, kwargs::Base.Pairs{Symbol, String, Tuple{Symbol}, NamedTuple{(:delim,), Tuple{String}}})",
      "   @ CSV ~/.julia/packages/CSV/b8ebJ/src/CSV.jl:115",
      " [2] f(filename::String)",
      "   @ Main ./In[2]:6",
      " [3] top-level scope",
      "   @ In[6]:1"
     ]
    }
   ],
   "source": [
    "f(\"input.csv\")"
   ]
  },
  {
   "cell_type": "code",
   "execution_count": 10,
   "id": "557d04cc-b84d-462e-8d93-f66a2f04bf7b",
   "metadata": {},
   "outputs": [
    {
     "ename": "LoadError",
     "evalue": "ArgumentError: provide a valid sink argument, like `using DataFrames; CSV.read(source, DataFrame)`",
     "output_type": "error",
     "traceback": [
      "ArgumentError: provide a valid sink argument, like `using DataFrames; CSV.read(source, DataFrame)`",
      "",
      "Stacktrace:",
      " [1] read(source::String, sink::Nothing; copycols::Bool, kwargs::Base.Pairs{Symbol, Any, Tuple{Symbol, Symbol}, NamedTuple{(:header, :delim), Tuple{Int64, Char}}})",
      "   @ CSV ~/.julia/packages/CSV/b8ebJ/src/CSV.jl:115",
      " [2] top-level scope",
      "   @ In[10]:2"
     ]
    }
   ],
   "source": [
    "using CSV\n",
    "m = CSV.read(\"./input.csv\", header=0, delim=';') |> Matrix{Float64}"
   ]
  },
  {
   "cell_type": "code",
   "execution_count": null,
   "id": "e92a314d-4d47-44cd-ac02-655ae581ad24",
   "metadata": {},
   "outputs": [],
   "source": []
  }
 ],
 "metadata": {
  "kernelspec": {
   "display_name": "Julia 1.8.5",
   "language": "julia",
   "name": "julia-1.8"
  },
  "language_info": {
   "file_extension": ".jl",
   "mimetype": "application/julia",
   "name": "julia",
   "version": "1.8.5"
  }
 },
 "nbformat": 4,
 "nbformat_minor": 5
}
