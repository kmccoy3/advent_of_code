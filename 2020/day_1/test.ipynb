{
 "cells": [
  {
   "cell_type": "code",
   "execution_count": 4,
   "id": "aa994ec6-2573-4314-89b2-6840495ab862",
   "metadata": {},
   "outputs": [
    {
     "data": {
      "text/plain": [
       "my_func (generic function with 1 method)"
      ]
     },
     "execution_count": 4,
     "metadata": {},
     "output_type": "execute_result"
    }
   ],
   "source": [
    "\n",
    "using DelimitedFiles\n",
    "import Combinatorics\n",
    "\n",
    "function my_func(filename)\n",
    "\n",
    "    data = readdlm(\"input.csv\", ',', Int)\n",
    "\n",
    "    for p in combinations(data, 2)\n",
    "        if sum(p) == 2020\n",
    "            return prod(p)\n",
    "        end\n",
    "    end\n",
    "\n",
    "end"
   ]
  },
  {
   "cell_type": "code",
   "execution_count": 5,
   "id": "270488a4-9b11-4e4c-aa0f-4ace82588b25",
   "metadata": {},
   "outputs": [
    {
     "ename": "LoadError",
     "evalue": "ArgumentError: Cannot open 'input.csv': not a file",
     "output_type": "error",
     "traceback": [
      "ArgumentError: Cannot open 'input.csv': not a file",
      "",
      "Stacktrace:",
      " [1] readdlm_auto(input::String, dlm::Char, T::Type, eol::Char, auto::Bool; opts::Base.Pairs{Symbol, Union{}, Tuple{}, NamedTuple{(), Tuple{}}})",
      "   @ DelimitedFiles /opt/homebrew/Cellar/julia/1.8.5/share/julia/stdlib/v1.8/DelimitedFiles/src/DelimitedFiles.jl:234",
      " [2] readdlm_auto",
      "   @ /opt/homebrew/Cellar/julia/1.8.5/share/julia/stdlib/v1.8/DelimitedFiles/src/DelimitedFiles.jl:233 [inlined]",
      " [3] #readdlm#6",
      "   @ /opt/homebrew/Cellar/julia/1.8.5/share/julia/stdlib/v1.8/DelimitedFiles/src/DelimitedFiles.jl:226 [inlined]",
      " [4] readdlm",
      "   @ /opt/homebrew/Cellar/julia/1.8.5/share/julia/stdlib/v1.8/DelimitedFiles/src/DelimitedFiles.jl:226 [inlined]",
      " [5] #readdlm#2",
      "   @ /opt/homebrew/Cellar/julia/1.8.5/share/julia/stdlib/v1.8/DelimitedFiles/src/DelimitedFiles.jl:86 [inlined]",
      " [6] readdlm",
      "   @ /opt/homebrew/Cellar/julia/1.8.5/share/julia/stdlib/v1.8/DelimitedFiles/src/DelimitedFiles.jl:86 [inlined]",
      " [7] my_func(filename::String)",
      "   @ Main ./In[4]:7",
      " [8] top-level scope",
      "   @ In[5]:1"
     ]
    }
   ],
   "source": [
    "my_func(\"input.csv\")"
   ]
  },
  {
   "cell_type": "code",
   "execution_count": null,
   "id": "4e7aabfe-d80f-433e-9c4f-38cd164d4c4d",
   "metadata": {},
   "outputs": [],
   "source": []
  },
  {
   "cell_type": "code",
   "execution_count": null,
   "id": "b263f695-5ef4-4cce-b8c8-0e3c4894e4ef",
   "metadata": {},
   "outputs": [],
   "source": []
  },
  {
   "cell_type": "code",
   "execution_count": null,
   "id": "9285e8cf-bd0a-443a-8fc9-8aed0a9a8e31",
   "metadata": {},
   "outputs": [],
   "source": []
  },
  {
   "cell_type": "code",
   "execution_count": 13,
   "id": "e92a314d-4d47-44cd-ac02-655ae581ad24",
   "metadata": {},
   "outputs": [
    {
     "data": {
      "text/plain": [
       "\"/Users/kmm12/Documents/documents-maul-vader/personal/coding/advent_of_code/2020/day_1\""
      ]
     },
     "execution_count": 13,
     "metadata": {},
     "output_type": "execute_result"
    }
   ],
   "source": [
    "cd(\"Documents/documents-maul-vader/personal/coding/advent_of_code/2020/day_1\")\n",
    "pwd()"
   ]
  },
  {
   "cell_type": "code",
   "execution_count": null,
   "id": "66d44b69-1893-4fdb-89d4-8f1156a77199",
   "metadata": {},
   "outputs": [],
   "source": []
  }
 ],
 "metadata": {
  "kernelspec": {
   "display_name": "Julia 1.8.5",
   "language": "julia",
   "name": "julia-1.8"
  },
  "language_info": {
   "file_extension": ".jl",
   "mimetype": "application/julia",
   "name": "julia",
   "version": "1.8.5"
  }
 },
 "nbformat": 4,
 "nbformat_minor": 5
}
